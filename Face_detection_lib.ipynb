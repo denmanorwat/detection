{
  "cells": [
    {
      "cell_type": "markdown",
      "metadata": {
        "id": "0bfIprDz4Ohr"
      },
      "source": [
        "I do not understand at all how bash works. But merging three answers from stack overflow gave me this.  \n",
        "This lines of \"code\" used to download celebritites photos from celebA dataset and description of bounding boxes.  \n",
        "This lines must be working independent of user, because zip folders are shared as \"public\""
      ]
    },
    {
      "cell_type": "code",
      "execution_count": null,
      "metadata": {
        "id": "MxNUnQOAp4Fj"
      },
      "outputs": [],
      "source": [
        "from google.colab import output"
      ]
    },
    {
      "cell_type": "code",
      "execution_count": null,
      "metadata": {
        "colab": {
          "base_uri": "https://localhost:8080/"
        },
        "id": "q8vsEOIBJcYM",
        "outputId": "7b85374f-c509-4a0e-b186-60bfb8c29e19"
      },
      "outputs": [
        {
          "name": "stdout",
          "output_type": "stream",
          "text": [
            "Requirement already satisfied: matplotlib in /usr/local/lib/python3.7/dist-packages (3.5.1)\n",
            "Requirement already satisfied: python-dateutil>=2.7 in /usr/local/lib/python3.7/dist-packages (from matplotlib) (2.8.2)\n",
            "Requirement already satisfied: packaging>=20.0 in /usr/local/lib/python3.7/dist-packages (from matplotlib) (21.3)\n",
            "Requirement already satisfied: kiwisolver>=1.0.1 in /usr/local/lib/python3.7/dist-packages (from matplotlib) (1.3.2)\n",
            "Requirement already satisfied: fonttools>=4.22.0 in /usr/local/lib/python3.7/dist-packages (from matplotlib) (4.29.1)\n",
            "Requirement already satisfied: numpy>=1.17 in /usr/local/lib/python3.7/dist-packages (from matplotlib) (1.21.5)\n",
            "Requirement already satisfied: pillow>=6.2.0 in /usr/local/lib/python3.7/dist-packages (from matplotlib) (7.1.2)\n",
            "Requirement already satisfied: pyparsing>=2.2.1 in /usr/local/lib/python3.7/dist-packages (from matplotlib) (3.0.7)\n",
            "Requirement already satisfied: cycler>=0.10 in /usr/local/lib/python3.7/dist-packages (from matplotlib) (0.11.0)\n",
            "Requirement already satisfied: six>=1.5 in /usr/local/lib/python3.7/dist-packages (from python-dateutil>=2.7->matplotlib) (1.15.0)\n"
          ]
        }
      ],
      "source": [
        "!python -m pip install -U matplotlib"
      ]
    },
    {
      "cell_type": "code",
      "execution_count": null,
      "metadata": {
        "id": "HOQXZ1R0eFnG"
      },
      "outputs": [],
      "source": [
        "!apt-get install jq\n",
        "!curl -s 'https://cloud-api.yandex.net/v1/disk/public/resources/download?public_key=https://disk.yandex.ru/d/7Zty7TyOcXVrig' | jq -r '.href' | xargs -I{} wget {} -O celeba_in_wild_1.zip\n",
        "!curl -s 'https://cloud-api.yandex.net/v1/disk/public/resources/download?public_key=https://disk.yandex.ru/d/EJnNERFOymOJ9Q' | jq -r '.href' | xargs -I{} wget {} -O celeba_in_wild_2.zip\n",
        "!curl -s 'https://cloud-api.yandex.net/v1/disk/public/resources/download?public_key=https://disk.yandex.ru/d/be-pzbsSyMUvgQ' | jq -r '.href' | xargs -I{} wget {} -O celeba_in_wild_3.zip\n",
        "!curl -s 'https://cloud-api.yandex.net/v1/disk/public/resources/download?public_key=https://disk.yandex.ru/d/eL8c-HCgSgXBOA' | jq -r '.href' | xargs -I{} wget {} -O celeba_in_wild_4.zip\n",
        "!curl -s 'https://cloud-api.yandex.net/v1/disk/public/resources/download?public_key=https://disk.yandex.ru/d/YHELGFERKfjb0Q' | jq -r '.href' | xargs -I{} wget {} -O celeba_in_wild_5.zip\n",
        "!curl -s 'https://cloud-api.yandex.net/v1/disk/public/resources/download?public_key=https://disk.yandex.ru/d/Tm9pGDZzZHMQAA' | jq -r '.href' | xargs -I{} wget {} -O celeba_in_wild_6.zip\n",
        "!curl -s 'https://cloud-api.yandex.net/v1/disk/public/resources/download?public_key=https://disk.yandex.ru/d/XaJKOGI7CMVRJw' | jq -r '.href' | xargs -I{} wget {} -O celeba_in_wild_7.zip\n",
        "!curl -s 'https://cloud-api.yandex.net/v1/disk/public/resources/download?public_key=https://disk.yandex.ru/d/dT9nSQ1FODIsew' | jq -r '.href' | xargs -I{} wget {} -O celeba_in_wild_8.zip\n",
        "!curl -s 'https://cloud-api.yandex.net/v1/disk/public/resources/download?public_key=https://disk.yandex.ru/d/zXLkF77fO1DDKw' | jq -r '.href' | xargs -I{} wget {} -O celeba_in_wild_9.zip\n",
        "!curl -s 'https://cloud-api.yandex.net/v1/disk/public/resources/download?public_key=https://disk.yandex.ru/d/-UKk194UkZQ4lA' | jq -r '.href' | xargs -I{} wget {} -O celeba_in_wild_10.zip\n",
        "!curl -s 'https://cloud-api.yandex.net/v1/disk/public/resources/download?public_key=https://disk.yandex.ru/d/REzDeHs9o0wpjQ' | jq -r '.href' | xargs -I{} wget {} -O bboxes.txt\n",
        "output.clear()"
      ]
    },
    {
      "cell_type": "code",
      "execution_count": null,
      "metadata": {
        "colab": {
          "background_save": true
        },
        "id": "LJQizVSO1uSn"
      },
      "outputs": [],
      "source": [
        "!unzip ./celeba_in_wild_1.zip -d ./celebA_in_wild\n",
        "#!rm -f ./celeba_in_wild_1.zip\n",
        "!unzip ./celeba_in_wild_2.zip -d ./celebA_in_wild\n",
        "#!rm -f ./celeba_in_wild_2.zip\n",
        "!unzip ./celeba_in_wild_3.zip -d ./celebA_in_wild\n",
        "#!rm -f ./celeba_in_wild_3.zip\n",
        "!unzip ./celeba_in_wild_4.zip -d ./celebA_in_wild\n",
        "#!rm -f ./celeba_in_wild_4.zip\n",
        "!unzip ./celeba_in_wild_5.zip -d ./celebA_in_wild\n",
        "#!rm -f ./celeba_in_wild_5.zip\n",
        "!unzip ./celeba_in_wild_6.zip -d ./celebA_in_wild\n",
        "#!rm -f ./celeba_in_wild_6.zip\n",
        "!unzip ./celeba_in_wild_7.zip -d ./celebA_in_wild\n",
        "#!rm -f ./celeba_in_wild_7.zip\n",
        "!unzip ./celeba_in_wild_8.zip -d ./celebA_in_wild\n",
        "#!rm -f ./celeba_in_wild_8.zip\n",
        "!unzip ./celeba_in_wild_9.zip -d ./celebA_in_wild\n",
        "#!rm -f ./celeba_in_wild_9.zip\n",
        "!unzip ./celeba_in_wild_10.zip -d ./celebA_in_wild\n",
        "#!rm -f ./celeba_in_wild_10.zip\n",
        "!cp ./bboxes.txt ./celebA_in_wild\n",
        "output.clear()"
      ]
    },
    {
      "cell_type": "code",
      "execution_count": null,
      "metadata": {
        "colab": {
          "background_save": true
        },
        "id": "zv1aCBihinLi"
      },
      "outputs": [],
      "source": [
        "!python -m pip install -U matplotlib\n",
        "!git clone https://github.com/timesler/facenet-pytorch.git\n",
        "!mv facenet-pytorch/models ./\n",
        "!ls models\n",
        "\n",
        "output.clear()"
      ]
    },
    {
      "cell_type": "code",
      "execution_count": null,
      "metadata": {
        "colab": {
          "background_save": true
        },
        "id": "swCr2XgOOxeX"
      },
      "outputs": [],
      "source": [
        "!cp -r ./drive/MyDrive/detectionA_lib ./detectionA_lib\n",
        "\n",
        "output.clear()"
      ]
    },
    {
      "cell_type": "code",
      "execution_count": null,
      "metadata": {
        "colab": {
          "background_save": true
        },
        "id": "W7rFsSmZOrE8"
      },
      "outputs": [],
      "source": [
        "import sys\n",
        "sys.path.insert(0, './detectionA_lib')"
      ]
    },
    {
      "cell_type": "code",
      "execution_count": null,
      "metadata": {
        "colab": {
          "background_save": true
        },
        "id": "FiAR8DBvCR5a"
      },
      "outputs": [],
      "source": [
        "from detectionA_lib.dataset_preparation import splitter\n",
        "\n",
        "splitter.train_val_test_split(\"./celebA_in_wild\", \"bboxes.txt\")"
      ]
    },
    {
      "cell_type": "code",
      "execution_count": null,
      "metadata": {
        "colab": {
          "background_save": true
        },
        "id": "mFtht3sMbPVD"
      },
      "outputs": [],
      "source": [
        "from detectionA_lib.detector import pyramidal_yolo\n",
        "from detectionA_lib.dataset_preparation import celebA_detector_dataset\n",
        "import torch\n",
        "from torch.utils.data import DataLoader\n",
        "from torchsummary import summary\n",
        "\n",
        "device = torch.device(\"cuda:0\" if torch.cuda.is_available() else \"cpu\")\n",
        "pyramidDetector = pyramidal_yolo.ResNetPyramidDetector().to(device)\n",
        "min_square_side = 256\n",
        "\n",
        "train_dataset = celebA_detector_dataset.wildCelebDataset(\"celebrities_splitted/train\", \"celebrities_splitted/train/bbox.txt\", min_square_side)\n",
        "val_dataset = celebA_detector_dataset.wildCelebDataset(\"celebrities_splitted/val\", \"celebrities_splitted/val/bbox.txt\", min_square_side)\n",
        "test_dataset = celebA_detector_dataset.wildCelebDataset(\"celebrities_splitted/test\", \"celebrities_splitted/test/bbox.txt\", min_square_side)"
      ]
    },
    {
      "cell_type": "code",
      "execution_count": null,
      "metadata": {
        "colab": {
          "background_save": true
        },
        "id": "mSANZM7TS2Gp"
      },
      "outputs": [],
      "source": [
        "train_dataloader = DataLoader(train_dataset, batch_size = 64, shuffle = True, drop_last = True)\n",
        "val_dataloader = DataLoader(val_dataset, batch_size = 16, drop_last = True)\n",
        "test_dataloader = DataLoader(test_dataset, batch_size = 16, drop_last = True)"
      ]
    },
    {
      "cell_type": "code",
      "execution_count": 14,
      "metadata": {
        "id": "CwlINRDVTCLM"
      },
      "outputs": [],
      "source": [
        "optim = torch.optim.Adam(params = pyramidDetector.parameters(), lr = 1e-05)\n",
        "lr_scheduler = torch.optim.lr_scheduler.MultiStepLR(optim, gamma = 0.1, milestones = [10000000])"
      ]
    },
    {
      "cell_type": "markdown",
      "source": [
        "### Померяем среднюю метрику IoU на test dataset:"
      ],
      "metadata": {
        "id": "AQI7VEnFrEK0"
      }
    },
    {
      "cell_type": "code",
      "source": [
        "import pickle\n",
        "from detectionA_lib.metrics.IoU_metric import measure_meanIoU\n",
        "\n",
        "with open(\"./drive/MyDrive/lib_Detector_Adam_Step_1e-04_10ep->1e-05_5ep/PyramidYoloDetector_epoch_=_1\", \"rb\") as m_file:\n",
        "    model = pickle.load(m_file).to(device)\n",
        "\n",
        "print(\"Средняя метрика IoU на test dataset составляет: \" + str(measure_meanIoU(test_dataloader, model).item()))"
      ],
      "metadata": {
        "colab": {
          "base_uri": "https://localhost:8080/"
        },
        "id": "40PJuj75qEWZ",
        "outputId": "f6dd1188-00eb-4f05-c98f-724d197b737a"
      },
      "execution_count": 18,
      "outputs": [
        {
          "output_type": "stream",
          "name": "stderr",
          "text": [
            "/content/detectionA_lib/detector/pyramidal_yolo.py:63: UserWarning: __floordiv__ is deprecated, and its behavior will change in a future version of pytorch. It currently rounds toward 0 (like the 'trunc' function NOT 'floor'). This results in incorrect rounding for negative values. To keep the current behavior, use torch.div(a, b, rounding_mode='trunc'), or for actual floor division, use torch.div(a, b, rounding_mode='floor').\n",
            "  loc_best_tensor_y_coord = loc_best_tensor_idx_flattened//width\n"
          ]
        },
        {
          "output_type": "stream",
          "name": "stdout",
          "text": [
            "Средняя метрика IoU на test dataset составляет: 0.8150802850723267\n"
          ]
        }
      ]
    }
  ],
  "metadata": {
    "accelerator": "GPU",
    "colab": {
      "collapsed_sections": [],
      "machine_shape": "hm",
      "name": "Face detection_lib.ipynb",
      "provenance": []
    },
    "kernelspec": {
      "display_name": "Python 3",
      "name": "python3"
    },
    "language_info": {
      "name": "python"
    }
  },
  "nbformat": 4,
  "nbformat_minor": 0
}